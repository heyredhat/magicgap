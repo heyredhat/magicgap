{
 "cells": [
  {
   "cell_type": "code",
   "execution_count": 3,
   "id": "5a36e8a3-6949-4f78-89d0-b4334737826c",
   "metadata": {},
   "outputs": [],
   "source": [
    "from magicgap import *\n",
    "\n",
    "def analyze_complement(extrema, base, n, d, d_s, M=750, T=100):\n",
    "    D = wh_operators(*[d]*n)\n",
    "    min_ase = extrema[n][d][d_s][\"min\"]\n",
    "    with np.load(base+extrema[n][d][d_s][\"min_file\"]) as data:\n",
    "        B = data[\"Bmin\"]\n",
    "    min_ase_optimal_supp = np.array(avg_magic_subspace_mc_with_optimal_support(D, B, M=M, R=10))\n",
    "    ket_c = min_ase_support_vector(D, B, M=M, R=10)\n",
    "    min_ase_fixed_supp = np.array(avg_magic_subspace_mc_with_support_vector(D, B, ket_c, M=M))\n",
    "\n",
    "    diffs = []\n",
    "    for _ in range(T):\n",
    "        B = rand_basis(d_s, d**n)\n",
    "        ase = avg_magic_subspace_multiqudit(D, B, d)\n",
    "        ket_c = min_ase_support_vector(D, B, M=M, R=10)\n",
    "        supp_ase, supp_ase_std = avg_magic_subspace_mc_with_support_vector(D, B, ket_c, M=M)\n",
    "        diff = (supp_ase - ase)/ase\n",
    "        diffs.append(diff)\n",
    "    avg_ase_diff_fixed_supp = np.array(np.mean(diffs), np.std(diffs))\n",
    "    np.savez(\"complement_data/n%d_d%d_ds%d\" % (n, d, d_s), n=n, d=d, d_s=d_s, min_ase=min_ase, min_ase_optimal_supp=min_ase_optimal_supp,\\\n",
    "                    min_ase_fixed_supp=min_ase_fixed_supp, avg_ase_diff_fixed_supp=avg_ase_diff_fixed_supp)\n",
    "\n",
    "base = \"extremize_magic/data/\"\n",
    "extrema = load_data(base+\"extremal_magic_data\")\n",
    "\n",
    "n = 1\n",
    "for d in [4,5,6]:\n",
    "    for d_s in range(2, d):\n",
    "        analyze_complement(extrema, base, n, d, d_s, M=750)\n",
    "\n",
    "d = 2\n",
    "for n in [2,3]:\n",
    "    for d_s in range(2, d):\n",
    "        analyze_complement(extrema, base, n, d, d_s, M=750)"
   ]
  },
  {
   "cell_type": "code",
   "execution_count": 5,
   "id": "60d10c31-b53f-4dba-bc9b-4c23e0be2cad",
   "metadata": {},
   "outputs": [],
   "source": [
    "dat = np.load(\"complement_data/n1_d3_ds2.npz\")"
   ]
  },
  {
   "cell_type": "code",
   "execution_count": 16,
   "id": "c017f7ed-528d-4acb-8da7-20f909f38b80",
   "metadata": {},
   "outputs": [
    {
     "data": {
      "text/plain": [
       "-0.0003182392668073153"
      ]
     },
     "execution_count": 16,
     "metadata": {},
     "output_type": "execute_result"
    }
   ],
   "source": [
    "float(dat[\"avg_ase_diff_fixed_supp\"])"
   ]
  },
  {
   "cell_type": "code",
   "execution_count": 13,
   "id": "bd28a913-3189-4583-887b-4965deea3a51",
   "metadata": {},
   "outputs": [
    {
     "data": {
      "text/plain": [
       "array(0.3)"
      ]
     },
     "execution_count": 13,
     "metadata": {},
     "output_type": "execute_result"
    }
   ],
   "source": [
    "dat[\"min_ase\"]"
   ]
  }
 ],
 "metadata": {
  "kernelspec": {
   "display_name": "Python 3 (ipykernel)",
   "language": "python",
   "name": "python3"
  },
  "language_info": {
   "codemirror_mode": {
    "name": "ipython",
    "version": 3
   },
   "file_extension": ".py",
   "mimetype": "text/x-python",
   "name": "python",
   "nbconvert_exporter": "python",
   "pygments_lexer": "ipython3",
   "version": "3.12.8"
  }
 },
 "nbformat": 4,
 "nbformat_minor": 5
}
