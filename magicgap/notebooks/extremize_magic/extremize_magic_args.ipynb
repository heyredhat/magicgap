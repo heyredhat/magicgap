{
 "cells": [
  {
   "cell_type": "code",
   "execution_count": null,
   "id": "6b8cc35a",
   "metadata": {},
   "outputs": [],
   "source": [
    "with open(\"extreme_magic_args.txt\", \"w\") as f:\n",
    "    for d in range(3, 17):\n",
    "        for d_s in range(2, d):\n",
    "            f.write(\"-d %d -n 1 -d_s %d\\n\" % (d, d_s))\n",
    "            f.write(\"-d %d -n 1 -d_s %d -mc\\n\" % (d, d_s))\n",
    "    for d in range(2, 4):\n",
    "        for n in range(2, 5 if d == 2 else 3):\n",
    "            d_b = d**n\n",
    "            for d_s in range(2, d_b):\n",
    "                f.write(\"-d %d -n %d -d_s %d\\n\" % (d, n, d_s))\n",
    "                f.write(\"-d %d -n %d -d_s %d -mc \\n\" % (d, n, d_s))"
   ]
  },
  {
   "cell_type": "code",
   "execution_count": 2,
   "id": "9994989a",
   "metadata": {},
   "outputs": [],
   "source": [
    "with open(\"extremize_magic_args.txt\", \"w\") as f:\n",
    "    d = 15\n",
    "    for d_s in range(10, d):\n",
    "        f.write(\"-d %d -n 1 -d_s %d -mc\\n\" % (d, d_s))\n",
    "    d = 16\n",
    "    for d_s in range(2, d):\n",
    "        f.write(\"-d %d -n 1 -d_s %d -mc\\n\" % (d, d_s))\n",
    "    d = 2\n",
    "    for n in range(2, 5):\n",
    "        d_b = d**n\n",
    "        for d_s in range(2, d_b):\n",
    "            f.write(\"-d %d -n %d -d_s %d -mc \\n\" % (d, n, d_s))\n",
    "    d, n = 3, 2\n",
    "    for d_s in range(2, d**n):\n",
    "        f.write(\"-d %d -n %d -d_s %d -mc \\n\" % (d, n, d_s))    \n",
    "    d, n = 4, 2\n",
    "    for d_s in range(2, d**n):\n",
    "        f.write(\"-d %d -n %d -d_s %d -mc \\n\" % (d, n, d_s))"
   ]
  }
 ],
 "metadata": {
  "kernelspec": {
   "display_name": "spring2025",
   "language": "python",
   "name": "python3"
  },
  "language_info": {
   "codemirror_mode": {
    "name": "ipython",
    "version": 3
   },
   "file_extension": ".py",
   "mimetype": "text/x-python",
   "name": "python",
   "nbconvert_exporter": "python",
   "pygments_lexer": "ipython3",
   "version": "3.12.8"
  }
 },
 "nbformat": 4,
 "nbformat_minor": 5
}
