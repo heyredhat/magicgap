{
 "cells": [
  {
   "cell_type": "code",
   "execution_count": 1,
   "id": "4fdbd266",
   "metadata": {},
   "outputs": [],
   "source": [
    "from magicgap import *"
   ]
  },
  {
   "cell_type": "markdown",
   "id": "42ece1ad",
   "metadata": {},
   "source": [
    "## 5 qubit perfect code"
   ]
  },
  {
   "cell_type": "code",
   "execution_count": 2,
   "id": "5b1f6152",
   "metadata": {},
   "outputs": [],
   "source": [
    "def five_qubit_perfect_code():\n",
    "    plus_terms = ['00000', '10010', '01001', '10100', '01010']\n",
    "    minus_terms = ['11011', '00110', '11000', '11101', '00011',\n",
    "               '11110', '01111', '10001', '01100', '10111', '00101']\n",
    "    ket0 = (sum([bv(b, d=d) for b in plus_terms]) - sum([bv(b, d=d) for b in minus_terms]))/4\n",
    "    X = paulis()[0]\n",
    "    ket1 = tensor_power(X, 5) @ ket0\n",
    "    return np.array([ket0, ket1])"
   ]
  },
  {
   "cell_type": "code",
   "execution_count": 3,
   "id": "a380b1ed",
   "metadata": {},
   "outputs": [],
   "source": [
    "M = 750\n",
    "d = 2\n",
    "n = 5\n",
    "d_s = 2\n",
    "D = wh_operators(*[d]*n)\n",
    "B = five_qubit_perfect_code()"
   ]
  },
  {
   "cell_type": "code",
   "execution_count": 17,
   "id": "3f992eb7",
   "metadata": {},
   "outputs": [
    {
     "data": {
      "text/plain": [
       "(np.float64(0.6912011148228829), np.float64(0.033237422733194334))"
      ]
     },
     "execution_count": 17,
     "metadata": {},
     "output_type": "execute_result"
    }
   ],
   "source": [
    "avg_magic_subspace_mc(D, B, M=1000)"
   ]
  },
  {
   "cell_type": "code",
   "execution_count": null,
   "id": "7aae918e",
   "metadata": {},
   "outputs": [
    {
     "data": {
      "text/plain": [
       "0.19999999999999996"
      ]
     },
     "execution_count": 8,
     "metadata": {},
     "output_type": "execute_result"
    }
   ],
   "source": [
    "avg_magic_analytic(d_s)"
   ]
  },
  {
   "cell_type": "code",
   "execution_count": 12,
   "id": "c049bd03",
   "metadata": {},
   "outputs": [],
   "source": [
    "ket_c = min_ase_support_vector(D, B, M=M, R=10)\n",
    "min_ase_fixed_supp = np.array(avg_magic_subspace_mc_with_support_vector(D, B, ket_c, M=M))"
   ]
  },
  {
   "cell_type": "code",
   "execution_count": 18,
   "id": "e532ac44",
   "metadata": {},
   "outputs": [
    {
     "data": {
      "text/plain": [
       "np.float64(0.6108423753285318)"
      ]
     },
     "execution_count": 18,
     "metadata": {},
     "output_type": "execute_result"
    }
   ],
   "source": [
    "min_ase_fixed_supp[0]"
   ]
  },
  {
   "cell_type": "code",
   "execution_count": 19,
   "id": "932f8b74",
   "metadata": {},
   "outputs": [
    {
     "data": {
      "text/plain": [
       "np.float64(0.06969313433403021)"
      ]
     },
     "execution_count": 19,
     "metadata": {},
     "output_type": "execute_result"
    }
   ],
   "source": [
    "min_ase_fixed_supp[1]"
   ]
  },
  {
   "cell_type": "markdown",
   "id": "04f52563",
   "metadata": {},
   "source": [
    "## [[4,2,2]]"
   ]
  },
  {
   "cell_type": "code",
   "execution_count": 152,
   "id": "ae55204d",
   "metadata": {},
   "outputs": [
    {
     "data": {
      "text/plain": [
       "(0.4285714285714297, 0.48571428571428577, 0.4285714285714286)"
      ]
     },
     "execution_count": 152,
     "metadata": {},
     "output_type": "execute_result"
    }
   ],
   "source": [
    "d = 2\n",
    "n = 4\n",
    "d_s = 4\n",
    "d_b = d**n\n",
    "D = wh_operators(*[d]*n)\n",
    "B = np.array([(bv(\"0000\", d) + bv(\"1111\"))/np.sqrt(2),\\\n",
    "              (bv(\"0011\", d) + bv(\"1100\"))/np.sqrt(2),\\\n",
    "              (bv(\"0101\", d) + bv(\"1010\"))/np.sqrt(2),\\\n",
    "              (bv(\"0110\", d) + bv(\"1001\"))/np.sqrt(2)])\n",
    "avg_magic_subspace_multiqudit(D, B, 2), avg_magic_analytic(4), avg_magic_analytic(4, nqubits=True)"
   ]
  },
  {
   "cell_type": "code",
   "execution_count": 117,
   "id": "e5820ffa",
   "metadata": {},
   "outputs": [
    {
     "data": {
      "text/plain": [
       "(0.20000000000000218, 0.19999999999999996)"
      ]
     },
     "execution_count": 117,
     "metadata": {},
     "output_type": "execute_result"
    }
   ],
   "source": [
    "Bsub = B[:2]\n",
    "avg_magic_subspace_multiqudit(D, Bsub, 2), avg_magic_analytic(2)"
   ]
  },
  {
   "cell_type": "code",
   "execution_count": 153,
   "id": "b4039e7d",
   "metadata": {},
   "outputs": [
    {
     "data": {
      "text/plain": [
       "[(0, 0, 0, 0, 0, 0, 0, 0),\n",
       " (0, 1, 0, 1, 0, 1, 0, 1),\n",
       " (1, 0, 1, 0, 1, 0, 1, 0),\n",
       " (1, 1, 1, 1, 1, 1, 1, 1)]"
      ]
     },
     "execution_count": 153,
     "metadata": {},
     "output_type": "execute_result"
    }
   ],
   "source": [
    "Pi = B.T @ B.conj()\n",
    "indices = list(np.ndindex(*[d]*(2*n)))\n",
    "chi = np.array([(D[idx].conj().T @ Pi).trace() for idx in indices])/d**n\n",
    "S = [idx for i, idx in enumerate(indices) if not np.isclose(chi[i], 0)]\n",
    "chi_trunc = [chi[i] for i, idx in enumerate(indices) if not np.isclose(chi[i], 0)]\n",
    "S"
   ]
  },
  {
   "cell_type": "code",
   "execution_count": 162,
   "id": "3239f71e",
   "metadata": {},
   "outputs": [
    {
     "data": {
      "text/plain": [
       "256"
      ]
     },
     "execution_count": 162,
     "metadata": {},
     "output_type": "execute_result"
    }
   ],
   "source": [
    "len([a for a in indices if tuple((2*np.asarray(a)) % d) in S])"
   ]
  },
  {
   "cell_type": "code",
   "execution_count": 163,
   "id": "7be8f78e",
   "metadata": {},
   "outputs": [
    {
     "data": {
      "text/plain": [
       "256"
      ]
     },
     "execution_count": 163,
     "metadata": {},
     "output_type": "execute_result"
    }
   ],
   "source": [
    "len(indices)"
   ]
  },
  {
   "cell_type": "code",
   "execution_count": 164,
   "id": "0da01ace",
   "metadata": {},
   "outputs": [
    {
     "data": {
      "text/plain": [
       "64"
      ]
     },
     "execution_count": 164,
     "metadata": {},
     "output_type": "execute_result"
    }
   ],
   "source": [
    "A = len([a for a in indices if np.all([(symplectic_product(a, s) % d) == 0 for s in S])])\n",
    "A"
   ]
  },
  {
   "cell_type": "code",
   "execution_count": 165,
   "id": "778a1734",
   "metadata": {},
   "outputs": [
    {
     "data": {
      "text/plain": [
       "64"
      ]
     },
     "execution_count": 165,
     "metadata": {},
     "output_type": "execute_result"
    }
   ],
   "source": [
    "d_b*d_s"
   ]
  },
  {
   "cell_type": "code",
   "execution_count": 166,
   "id": "057866de",
   "metadata": {},
   "outputs": [
    {
     "data": {
      "text/plain": [
       "-0.05714285714285714"
      ]
     },
     "execution_count": 166,
     "metadata": {},
     "output_type": "execute_result"
    }
   ],
   "source": [
    "(4*d_b - A*d_s)/(d_b*(d_s**3 + 6*d_s**2 + 11*d_s + 6))"
   ]
  },
  {
   "cell_type": "code",
   "execution_count": 157,
   "id": "407b838c",
   "metadata": {},
   "outputs": [
    {
     "data": {
      "text/plain": [
       "-0.05714285714285605"
      ]
     },
     "execution_count": 157,
     "metadata": {},
     "output_type": "execute_result"
    }
   ],
   "source": [
    "avg_magic_subspace_multiqudit(D, B, 2) - avg_magic_analytic(4)"
   ]
  },
  {
   "cell_type": "code",
   "execution_count": 167,
   "id": "1930c706",
   "metadata": {},
   "outputs": [
    {
     "data": {
      "text/plain": [
       "0.0"
      ]
     },
     "execution_count": 167,
     "metadata": {},
     "output_type": "execute_result"
    }
   ],
   "source": [
    "(d_b*d_s**2 - A*d_s)/(d_b*(d_s+1)*(d_s+2)*(d_s+3))"
   ]
  },
  {
   "cell_type": "markdown",
   "id": "3ac966b6",
   "metadata": {},
   "source": [
    "## $\\mathcal{Z}_d$ Gauge Theory$"
   ]
  },
  {
   "cell_type": "code",
   "execution_count": 53,
   "id": "2c4d7ff7",
   "metadata": {},
   "outputs": [
    {
     "data": {
      "text/plain": [
       "[(0, 0, 0, 0, 0, 0, 0, 0),\n",
       " (1, 0, 1, 0, 1, 0, 1, 0),\n",
       " (2, 0, 2, 0, 2, 0, 2, 0),\n",
       " (3, 0, 3, 0, 3, 0, 3, 0),\n",
       " (4, 0, 4, 0, 4, 0, 4, 0),\n",
       " (5, 0, 5, 0, 5, 0, 5, 0)]"
      ]
     },
     "execution_count": 53,
     "metadata": {},
     "output_type": "execute_result"
    }
   ],
   "source": [
    "d = 6\n",
    "n = 4\n",
    "d_b = d**n\n",
    "indices = list(np.ndindex(*[d]*(2*n)))\n",
    "S = [tuple([i,0]*n) for i in range(d)]\n",
    "d_s = int(d_b/len(S)); S"
   ]
  },
  {
   "cell_type": "code",
   "execution_count": 12,
   "id": "8e86760d",
   "metadata": {},
   "outputs": [],
   "source": [
    "D = wh_operators(*[d]*n)\n",
    "Pi = sum([D[s] for s in S])/len(S)"
   ]
  },
  {
   "cell_type": "code",
   "execution_count": 54,
   "id": "5fdaf37e",
   "metadata": {},
   "outputs": [
    {
     "ename": "KeyboardInterrupt",
     "evalue": "",
     "output_type": "error",
     "traceback": [
      "\u001b[0;31m---------------------------------------------------------------------------\u001b[0m",
      "\u001b[0;31mKeyboardInterrupt\u001b[0m                         Traceback (most recent call last)",
      "Cell \u001b[0;32mIn[54], line 1\u001b[0m\n\u001b[0;32m----> 1\u001b[0m A \u001b[38;5;241m=\u001b[39m \u001b[38;5;28mlen\u001b[39m([a \u001b[38;5;28;01mfor\u001b[39;00m a \u001b[38;5;129;01min\u001b[39;00m indices \u001b[38;5;28;01mif\u001b[39;00m np\u001b[38;5;241m.\u001b[39mall([(\u001b[43msymplectic_product\u001b[49m\u001b[43m(\u001b[49m\u001b[43ma\u001b[49m\u001b[43m,\u001b[49m\u001b[43m \u001b[49m\u001b[43ms\u001b[49m\u001b[43m)\u001b[49m \u001b[38;5;241m%\u001b[39m d) \u001b[38;5;241m==\u001b[39m \u001b[38;5;241m0\u001b[39m \u001b[38;5;28;01mfor\u001b[39;00m s \u001b[38;5;129;01min\u001b[39;00m S])\\\n\u001b[1;32m      2\u001b[0m                                \u001b[38;5;129;01mand\u001b[39;00m \u001b[38;5;28mtuple\u001b[39m((\u001b[38;5;241m2\u001b[39m\u001b[38;5;241m*\u001b[39mnp\u001b[38;5;241m.\u001b[39masarray(a)) \u001b[38;5;241m%\u001b[39m d) \u001b[38;5;129;01min\u001b[39;00m S])\n\u001b[1;32m      3\u001b[0m A\n",
      "\u001b[0;31mKeyboardInterrupt\u001b[0m: "
     ]
    }
   ],
   "source": [
    "A = len([a for a in indices if np.all([(symplectic_product(a, s) % d) == 0 for s in S])\\\n",
    "                               and tuple((2*np.asarray(a)) % d) in S])\n",
    "A"
   ]
  },
  {
   "cell_type": "code",
   "execution_count": 52,
   "id": "9a70a3c3",
   "metadata": {},
   "outputs": [
    {
     "data": {
      "text/plain": [
       "(6, 96)"
      ]
     },
     "execution_count": 52,
     "metadata": {},
     "output_type": "execute_result"
    }
   ],
   "source": [
    "d, d*4**(n-1)"
   ]
  },
  {
   "cell_type": "code",
   "execution_count": null,
   "id": "431afe9a",
   "metadata": {},
   "outputs": [],
   "source": []
  }
 ],
 "metadata": {
  "kernelspec": {
   "display_name": "spring2025",
   "language": "python",
   "name": "python3"
  },
  "language_info": {
   "codemirror_mode": {
    "name": "ipython",
    "version": 3
   },
   "file_extension": ".py",
   "mimetype": "text/x-python",
   "name": "python",
   "nbconvert_exporter": "python",
   "pygments_lexer": "ipython3",
   "version": "3.12.8"
  }
 },
 "nbformat": 4,
 "nbformat_minor": 5
}
