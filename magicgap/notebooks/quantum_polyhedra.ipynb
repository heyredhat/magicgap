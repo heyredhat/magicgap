{
 "cells": [
  {
   "cell_type": "code",
   "execution_count": 1,
   "id": "dae5422c",
   "metadata": {},
   "outputs": [],
   "source": [
    "from magicgap import *"
   ]
  },
  {
   "cell_type": "code",
   "execution_count": 12,
   "id": "e18db000",
   "metadata": {},
   "outputs": [
    {
     "name": "stdout",
     "output_type": "stream",
     "text": [
      "CG decomposition: [(0.0, 5), (1.0, 9), (2.0, 5), (3.0, 1)]\n",
      "Intrinsic ASE: 0.5714285714285714\n"
     ]
    }
   ],
   "source": [
    "d = 2\n",
    "j = d_j(d)\n",
    "n = 6\n",
    "\n",
    "D = wh_operators(*[d]*n)\n",
    "B = intertwiner_basis(*[j]*n)\n",
    "d_s = B.shape[0]\n",
    "\n",
    "print(\"CG decomposition: %s\" % recoupled_spin_sectors(*[j]*n))\n",
    "print(\"Intrinsic ASE: %s\" % avg_magic_analytic(d_s))"
   ]
  },
  {
   "cell_type": "code",
   "execution_count": null,
   "id": "3084a0c5",
   "metadata": {},
   "outputs": [
    {
     "name": "stdout",
     "output_type": "stream",
     "text": [
      "Extrinsic ASE: [np.float64(0.754239207703124), np.float64(0.0)]\n"
     ]
    }
   ],
   "source": [
    "extrisic_ase = sample_mean(lambda : avg_magic_subspace_mc(D, B, M=1000)[0], M=20)\n",
    "print(\"Extrinsic ASE: %s\" % list(extrisic_ase))"
   ]
  },
  {
   "cell_type": "code",
   "execution_count": 34,
   "id": "0df7ab73",
   "metadata": {},
   "outputs": [
    {
     "name": "stdout",
     "output_type": "stream",
     "text": [
      "Extrinsic ASE: 0.3777777777777779\n"
     ]
    }
   ],
   "source": [
    "print(\"Extrinsic ASE: %s\" % avg_magic_subspace_multiqudit(D, B, d))"
   ]
  }
 ],
 "metadata": {
  "kernelspec": {
   "display_name": "spring2025",
   "language": "python",
   "name": "python3"
  },
  "language_info": {
   "codemirror_mode": {
    "name": "ipython",
    "version": 3
   },
   "file_extension": ".py",
   "mimetype": "text/x-python",
   "name": "python",
   "nbconvert_exporter": "python",
   "pygments_lexer": "ipython3",
   "version": "3.12.8"
  }
 },
 "nbformat": 4,
 "nbformat_minor": 5
}
