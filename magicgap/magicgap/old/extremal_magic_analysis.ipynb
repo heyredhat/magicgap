{
 "cells": [
  {
   "cell_type": "code",
   "execution_count": 1,
   "id": "52e49f19",
   "metadata": {},
   "outputs": [],
   "source": [
    "from magic_gap import *\n",
    "import pickle\n",
    "\n",
    "colors = ['blue', 'green', 'red', 'cyan', 'magenta', 'yellow', 'black', 'orange', 'purple', 'brown', 'pink', 'gray']"
   ]
  },
  {
   "cell_type": "code",
   "execution_count": 2,
   "id": "eb84c3c2",
   "metadata": {},
   "outputs": [
    {
     "ename": "ModuleNotFoundError",
     "evalue": "No module named 'jax._src.device_array'",
     "output_type": "error",
     "traceback": [
      "\u001b[0;31m---------------------------------------------------------------------------\u001b[0m",
      "\u001b[0;31mModuleNotFoundError\u001b[0m                       Traceback (most recent call last)",
      "Cell \u001b[0;32mIn[2], line 3\u001b[0m\n\u001b[1;32m      1\u001b[0m d_range \u001b[38;5;241m=\u001b[39m np\u001b[38;5;241m.\u001b[39marange(\u001b[38;5;241m3\u001b[39m, \u001b[38;5;241m9\u001b[39m)\n\u001b[1;32m      2\u001b[0m \u001b[38;5;28;01mwith\u001b[39;00m \u001b[38;5;28mopen\u001b[39m(\u001b[38;5;124m\"\u001b[39m\u001b[38;5;124mmin_qudit_qudit_magic.pkl\u001b[39m\u001b[38;5;124m\"\u001b[39m, \u001b[38;5;124m\"\u001b[39m\u001b[38;5;124mrb\u001b[39m\u001b[38;5;124m\"\u001b[39m) \u001b[38;5;28;01mas\u001b[39;00m f:  \n\u001b[0;32m----> 3\u001b[0m     qudit_results \u001b[38;5;241m=\u001b[39m \u001b[43mpickle\u001b[49m\u001b[38;5;241;43m.\u001b[39;49m\u001b[43mload\u001b[49m\u001b[43m(\u001b[49m\u001b[43mf\u001b[49m\u001b[43m)\u001b[49m\n",
      "\u001b[0;31mModuleNotFoundError\u001b[0m: No module named 'jax._src.device_array'"
     ]
    }
   ],
   "source": [
    "d_range = np.arange(3, 9)\n",
    "with open(\"min_qudit_qudit_magic.pkl\", \"rb\") as f:  \n",
    "    qudit_results = pickle.load(f)"
   ]
  },
  {
   "cell_type": "code",
   "execution_count": null,
   "id": "ec341119",
   "metadata": {},
   "outputs": [],
   "source": [
    "for i, d_big in enumerate(d_range):\n",
    "    d_small_range = np.arange(2, d_big)\n",
    "    max_avg_magics = []\n",
    "    min_avg_magics = []\n",
    "    big_avg_magics = []\n",
    "    small_avg_magics = []\n",
    "    for d_small in d_small_range:\n",
    "        result = qudit_results[(d_big, d_small)]\n",
    "        max_avg_magics.append(result[\"max_avg_magic\"][0])\n",
    "        min_avg_magics.append(result[\"min_avg_magic\"][0])\n",
    "        big_avg_magics.append(result[\"big_avg_magic\"][0])\n",
    "        small_avg_magics.append(result[\"small_avg_magic\"][0])\n",
    "    plt.plot(d_small_range, max_avg_magics, alpha=0.7, color=colors[i])\n",
    "    plt.scatter(d_small_range, max_avg_magics, alpha=0.7, color=colors[i])\n",
    "    plt.plot(d_small_range, min_avg_magics, alpha=0.7, color=colors[i])\n",
    "    plt.scatter(d_small_range, min_avg_magics, alpha=0.7, color=colors[i])\n",
    "    plt.fill_between(d_small_range, min_avg_magics, max_avg_magics, alpha=0.4, color=colors[i])\n",
    "    plt.plot(d_small_range, big_avg_magics, alpha=0.7, linestyle=\"--\", color=colors[i])\n",
    "    plt.scatter(d_small_range, big_avg_magics, alpha=0.7, label='d_big: %d' % d_big, color=colors[i])\n",
    "    plt.legend()\n",
    "    plt.title(\"qudit/qudit\")\n",
    "    plt.xlabel(\"d_small\")\n",
    "    plt.ylabel(\"linear stabilizer entropy\")\n",
    "    plt.grid(True)\n",
    "    plt.tight_layout()"
   ]
  },
  {
   "cell_type": "code",
   "execution_count": null,
   "id": "91a78ef9",
   "metadata": {},
   "outputs": [],
   "source": [
    "n_range = np.arange(2, 6)\n",
    "with open(\"min_qubit_qudit_magic.pkl\", \"rb\") as f:  \n",
    "    qubit_results = pickle.load(f)"
   ]
  },
  {
   "cell_type": "code",
   "execution_count": null,
   "id": "ae64837f",
   "metadata": {},
   "outputs": [],
   "source": [
    "for i, n in enumerate(n_range):\n",
    "    d_big = 2**n\n",
    "    d_small_range = np.arange(2, d_big)\n",
    "    max_avg_magics = []\n",
    "    min_avg_magics = []\n",
    "    big_avg_magics = []\n",
    "    for d_small in d_small_range:\n",
    "        result = qubit_results[(d_big, d_small)]\n",
    "        max_avg_magics.append(result[\"max_avg_magic\"][0])\n",
    "        min_avg_magics.append(result[\"min_avg_magic\"][0])\n",
    "        big_avg_magics.append(result[\"big_avg_magic\"][0])\n",
    "    plt.plot(d_small_range, max_avg_magics, alpha=0.7, color=colors[i])\n",
    "    plt.scatter(d_small_range, max_avg_magics, alpha=0.7, color=colors[i])\n",
    "    plt.plot(d_small_range, min_avg_magics, alpha=0.7, color=colors[i])\n",
    "    plt.scatter(d_small_range, min_avg_magics, alpha=0.7, color=colors[i])\n",
    "    plt.fill_between(d_small_range, min_avg_magics, max_avg_magics, alpha=0.4, color=colors[i])\n",
    "    plt.plot(d_small_range, big_avg_magics, alpha=0.7, linestyle=\"--\", color=colors[i])\n",
    "    plt.scatter(d_small_range, big_avg_magics, alpha=0.7, label='d_big: %d' % d_big, color=colors[i])\n",
    "\n",
    "    plt.legend()\n",
    "    plt.title(\"qubit/qudit\")\n",
    "    plt.xlabel(\"d_small\")\n",
    "    plt.ylabel(\"linear stabilizer entropy\")\n",
    "    plt.grid(True)\n",
    "    plt.tight_layout()"
   ]
  }
 ],
 "metadata": {
  "kernelspec": {
   "display_name": "spring2025",
   "language": "python",
   "name": "python3"
  },
  "language_info": {
   "codemirror_mode": {
    "name": "ipython",
    "version": 3
   },
   "file_extension": ".py",
   "mimetype": "text/x-python",
   "name": "python",
   "nbconvert_exporter": "python",
   "pygments_lexer": "ipython3",
   "version": "3.12.8"
  }
 },
 "nbformat": 4,
 "nbformat_minor": 5
}
