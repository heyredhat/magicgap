{
 "cells": [
  {
   "cell_type": "code",
   "execution_count": 1,
   "id": "4fdbd266",
   "metadata": {},
   "outputs": [],
   "source": [
    "from magicgap import *"
   ]
  },
  {
   "cell_type": "markdown",
   "id": "42ece1ad",
   "metadata": {},
   "source": [
    "## 5 qubit perfect code"
   ]
  },
  {
   "cell_type": "code",
   "execution_count": 12,
   "id": "5b1f6152",
   "metadata": {},
   "outputs": [],
   "source": [
    "def five_qubit_perfect_code():\n",
    "    plus_terms = ['00000', '10010', '01001', '10100', '01010']\n",
    "    minus_terms = ['11011', '00110', '11000', '11101', '00011',\n",
    "               '11110', '01111', '10001', '01100', '10111', '00101']\n",
    "    ket0 = (sum([bv(b, d=d) for b in plus_terms]) - sum([bv(b, d=d) for b in minus_terms]))/4\n",
    "    X = paulis()[0]\n",
    "    ket1 = tensor_power(X, 5) @ ket0\n",
    "    return np.array([ket0, ket1])"
   ]
  },
  {
   "cell_type": "code",
   "execution_count": 13,
   "id": "a380b1ed",
   "metadata": {},
   "outputs": [],
   "source": [
    "d = 2\n",
    "n = 5\n",
    "D = wh_operators(*[d]*n)"
   ]
  },
  {
   "cell_type": "code",
   "execution_count": 16,
   "id": "3f992eb7",
   "metadata": {},
   "outputs": [
    {
     "data": {
      "text/plain": [
       "(np.float64(0.6918339438142521), np.float64(0.034145026088230064))"
      ]
     },
     "execution_count": 16,
     "metadata": {},
     "output_type": "execute_result"
    }
   ],
   "source": [
    "avg_magic_subspace_mc(D, B, M=1000)"
   ]
  },
  {
   "cell_type": "code",
   "execution_count": 17,
   "id": "7aae918e",
   "metadata": {},
   "outputs": [
    {
     "data": {
      "text/plain": [
       "0.19999999999999996"
      ]
     },
     "execution_count": 17,
     "metadata": {},
     "output_type": "execute_result"
    }
   ],
   "source": [
    "avg_magic_analytic(2)"
   ]
  },
  {
   "cell_type": "code",
   "execution_count": null,
   "id": "c049bd03",
   "metadata": {},
   "outputs": [],
   "source": []
  }
 ],
 "metadata": {
  "kernelspec": {
   "display_name": "spring2025",
   "language": "python",
   "name": "python3"
  },
  "language_info": {
   "codemirror_mode": {
    "name": "ipython",
    "version": 3
   },
   "file_extension": ".py",
   "mimetype": "text/x-python",
   "name": "python",
   "nbconvert_exporter": "python",
   "pygments_lexer": "ipython3",
   "version": "3.12.8"
  }
 },
 "nbformat": 4,
 "nbformat_minor": 5
}
