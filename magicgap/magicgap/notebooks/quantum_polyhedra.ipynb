{
 "cells": [
  {
   "cell_type": "code",
   "execution_count": 1,
   "id": "dae5422c",
   "metadata": {},
   "outputs": [],
   "source": [
    "from magicgap import *"
   ]
  },
  {
   "cell_type": "code",
   "execution_count": 4,
   "id": "8d7e0a44",
   "metadata": {},
   "outputs": [],
   "source": [
    "runs = [(1/2, 4)]\n",
    "results = []\n",
    "for run in runs:\n",
    "    local_j, n_faces = run\n",
    "    B = intertwiner_basis(*[local_j]*n_faces)\n",
    "    result = avg_magic_subspace_multiqudit(wh_operators(*[j_d(local_j)]*n_faces, matrix=True, expanded=True), B, 2)\n",
    "    results.append(result)"
   ]
  },
  {
   "cell_type": "code",
   "execution_count": 9,
   "id": "640abe8e",
   "metadata": {},
   "outputs": [
    {
     "data": {
      "text/plain": [
       "([0.3777777777777782], 0.37777777777777777)"
      ]
     },
     "execution_count": 9,
     "metadata": {},
     "output_type": "execute_result"
    }
   ],
   "source": [
    "results, 17/45"
   ]
  },
  {
   "cell_type": "code",
   "execution_count": 6,
   "id": "18748f59",
   "metadata": {},
   "outputs": [
    {
     "data": {
      "text/plain": [
       "0.7894736842105263"
      ]
     },
     "execution_count": 6,
     "metadata": {},
     "output_type": "execute_result"
    }
   ],
   "source": [
    "avg_magic_analytic(2**4, nqubits=True)"
   ]
  },
  {
   "cell_type": "code",
   "execution_count": 7,
   "id": "b240b99b",
   "metadata": {},
   "outputs": [
    {
     "data": {
      "text/plain": [
       "0.963855421686747"
      ]
     },
     "execution_count": 7,
     "metadata": {},
     "output_type": "execute_result"
    }
   ],
   "source": [
    "avg_magic_analytic(3**4)"
   ]
  },
  {
   "cell_type": "code",
   "execution_count": 8,
   "id": "9ea461d3",
   "metadata": {},
   "outputs": [
    {
     "data": {
      "text/plain": [
       "0.9402985074626866"
      ]
     },
     "execution_count": 8,
     "metadata": {},
     "output_type": "execute_result"
    }
   ],
   "source": [
    "avg_magic_analytic(2**6, nqubits=True)"
   ]
  },
  {
   "cell_type": "code",
   "execution_count": 5,
   "id": "11f782ef",
   "metadata": {},
   "outputs": [
    {
     "data": {
      "text/plain": [
       "[(0.0, 2), (1.0, 3), (2.0, 1)]"
      ]
     },
     "execution_count": 5,
     "metadata": {},
     "output_type": "execute_result"
    }
   ],
   "source": [
    "recoupled_spin_sectors(*[1/2]*4)"
   ]
  },
  {
   "cell_type": "code",
   "execution_count": 7,
   "id": "ff056523",
   "metadata": {},
   "outputs": [
    {
     "data": {
      "text/plain": [
       "[(0.0, 3), (1.0, 6), (2.0, 6), (3.0, 3), (4.0, 1)]"
      ]
     },
     "execution_count": 7,
     "metadata": {},
     "output_type": "execute_result"
    }
   ],
   "source": [
    "recoupled_spin_sectors(*[1]*4)"
   ]
  },
  {
   "cell_type": "code",
   "execution_count": 8,
   "id": "ba5bbda1",
   "metadata": {},
   "outputs": [
    {
     "data": {
      "text/plain": [
       "[(0.0, 5), (1.0, 9), (2.0, 5), (3.0, 1)]"
      ]
     },
     "execution_count": 8,
     "metadata": {},
     "output_type": "execute_result"
    }
   ],
   "source": [
    "recoupled_spin_sectors(*[1/2]*6)"
   ]
  }
 ],
 "metadata": {
  "kernelspec": {
   "display_name": "spring2025",
   "language": "python",
   "name": "python3"
  },
  "language_info": {
   "codemirror_mode": {
    "name": "ipython",
    "version": 3
   },
   "file_extension": ".py",
   "mimetype": "text/x-python",
   "name": "python",
   "nbconvert_exporter": "python",
   "pygments_lexer": "ipython3",
   "version": "3.12.8"
  }
 },
 "nbformat": 4,
 "nbformat_minor": 5
}
